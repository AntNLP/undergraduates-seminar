{
 "cells": [
  {
   "cell_type": "markdown",
   "metadata": {},
   "source": [
    "#### Distributed Representations of Words and Phrases and their Compositionality\n",
    "<br/>\n",
    "#### Efficient Estimation of Word Representations in Vector Space\n",
    "<br/>\n",
    "### （一）CBOW(Continuous Bag-of-Words)\n",
    "<br/>\n",
    "<img src=\"http://images2015.cnblogs.com/blog/1008922/201608/1008922-20160830124440402-325932526.png\" style=\"float:left\">\n",
    "\n",
    "\n",
    "\\begin{eqnarray}\n",
    "\\boldsymbol v_{t+j}=V\\boldsymbol x_{t+j}\n",
    "\\tag{1}\\end{eqnarray}\n",
    "\n",
    "\\begin{eqnarray}\n",
    "\\hat{\\boldsymbol v}_t=\\frac{1}{2m}\\sum_j\\boldsymbol v_{t+j}\n",
    "\\tag{2}\\end{eqnarray}\n",
    "\n",
    "\\begin{eqnarray}\n",
    "\\boldsymbol z=U\\hat{\\boldsymbol v}_t\n",
    "\\tag{3}\\end{eqnarray}\n",
    "\n",
    "\\begin{eqnarray}\n",
    "\\hat y_{\\underline i}=P(w_{\\underline i}|w_{t-m},...,w_{t-1},w_{t+1},...,w_{t+m})=\\text{softmax}(z_{\\underline i})=\\text{softmax}(\\boldsymbol u_{\\underline i}^\\top \\hat{\\boldsymbol v}_t),\\quad w_{\\underline i}\\in \\mathbb V\n",
    "\\tag{4}\\end{eqnarray}\n",
    "\n",
    "<br/>\n",
    "损失函数的推导：\n",
    "\\begin{aligned}\\mathcal L&=-\\log \\hat y_t\\\\&=-\\log P(w_t|w_{t-m},...,w_{t-1},w_{t+1},...,w_{t+m})\\\\&=-\\log \\text{softmax}(z_t)\\\\&=-\\log \\frac{\\exp (\\boldsymbol u_t^\\top \\hat{\\boldsymbol v}_t)}{\\sum_{k=1}^{|\\mathbb V|}\\exp (\\boldsymbol u_{\\underline k}^\\top \\hat{\\boldsymbol v}_t)}\\\\&=-\\boldsymbol u_t^\\top \\hat{\\boldsymbol v}_t+\\log \\sum_{k=1}^{|\\mathbb V|}\\exp (\\boldsymbol u_{\\underline k}^\\top \\hat{\\boldsymbol v}_t)\\\\&=-z_t+\\log \\sum_{k=1}^{|\\mathbb V|}\\exp z_{\\underline k} \\end{aligned}\n",
    "\n",
    "<br/>\n",
    "<br/>\n",
    "### （二）Hierarchical Softmax\n",
    "![](HS.png)\n",
    "\\begin{eqnarray}\n",
    "&\\sigma(\\boldsymbol u_{n(w,j)}^\\top \\hat{\\boldsymbol v}_t)\\\\\n",
    "&1-\\sigma(\\boldsymbol u_{n(w,j)}^\\top \\hat{\\boldsymbol v}_t)=\\sigma(-\\boldsymbol u_{n(w,j)}^\\top \\hat{\\boldsymbol v}_t)\n",
    "\\end{eqnarray}\n",
    "\n",
    "<br/>\n",
    "<br/>\n",
    "### （三）Negative Sampling"
   ]
  },
  {
   "cell_type": "code",
   "execution_count": null,
   "metadata": {
    "collapsed": true
   },
   "outputs": [],
   "source": []
  }
 ],
 "metadata": {
  "kernelspec": {
   "display_name": "Python 2",
   "language": "python",
   "name": "python2"
  },
  "language_info": {
   "codemirror_mode": {
    "name": "ipython",
    "version": 2
   },
   "file_extension": ".py",
   "mimetype": "text/x-python",
   "name": "python",
   "nbconvert_exporter": "python",
   "pygments_lexer": "ipython2",
   "version": "2.7.12"
  }
 },
 "nbformat": 4,
 "nbformat_minor": 2
}
